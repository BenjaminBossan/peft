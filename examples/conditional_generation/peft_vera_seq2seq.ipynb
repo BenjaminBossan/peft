{
 "cells": [
  {
   "cell_type": "code",
   "execution_count": 1,
   "id": "5f93b7d1",
   "metadata": {},
   "outputs": [
    {
     "name": "stderr",
     "output_type": "stream",
     "text": [
      "/home/alex/work/peft/venv/lib/python3.11/site-packages/tqdm/auto.py:21: TqdmWarning: IProgress not found. Please update jupyter and ipywidgets. See https://ipywidgets.readthedocs.io/en/stable/user_install.html\n",
      "  from .autonotebook import tqdm as notebook_tqdm\n"
     ]
    }
   ],
   "source": [
    "from transformers import AutoModelForSeq2SeqLM\n",
    "from peft import get_peft_config, get_peft_model, get_peft_model_state_dict, VeraConfig, TaskType\n",
    "import torch\n",
    "from datasets import load_dataset\n",
    "import os\n",
    "\n",
    "os.environ[\"TOKENIZERS_PARALLELISM\"] = \"false\"\n",
    "from transformers import AutoTokenizer\n",
    "from torch.utils.data import DataLoader\n",
    "from transformers import default_data_collator, get_linear_schedule_with_warmup\n",
    "from tqdm import tqdm\n",
    "from datasets import load_dataset\n",
    "\n",
    "device = \"cuda\"\n",
    "model_name_or_path = \"bigscience/mt0-large\"\n",
    "tokenizer_name_or_path = \"bigscience/mt0-large\"\n",
    "\n",
    "checkpoint_name = \"financial_sentiment_analysis_lora_v1.pt\"\n",
    "text_column = \"sentence\"\n",
    "label_column = \"text_label\"\n",
    "max_length = 128\n",
    "lr = 5e-3 # 1e-2 is good\n",
    "num_epochs = 5\n",
    "batch_size = 8"
   ]
  },
  {
   "cell_type": "code",
   "execution_count": 2,
   "id": "8d0850ac",
   "metadata": {},
   "outputs": [
    {
     "name": "stdout",
     "output_type": "stream",
     "text": [
      "trainable params: 331,776 || all params: 1,229,913,088 || trainable%: 0.0269755646343687\n"
     ]
    },
    {
     "data": {
      "text/plain": [
       "PeftModelForSeq2SeqLM(\n",
       "  (base_model): VeraModel(\n",
       "    (model): MT5ForConditionalGeneration(\n",
       "      (shared): Embedding(250112, 1024)\n",
       "      (encoder): MT5Stack(\n",
       "        (embed_tokens): Embedding(250112, 1024)\n",
       "        (block): ModuleList(\n",
       "          (0): MT5Block(\n",
       "            (layer): ModuleList(\n",
       "              (0): MT5LayerSelfAttention(\n",
       "                (SelfAttention): MT5Attention(\n",
       "                  (q): Linear(\n",
       "                    in_features=1024, out_features=1024, bias=False\n",
       "                    (vera_dropout): ModuleDict(\n",
       "                      (default): Dropout(p=0.1, inplace=False)\n",
       "                    )\n",
       "                    (vera_lambda_b): ParameterDict(  (default): Parameter containing: [torch.FloatTensor of size 1024])\n",
       "                    (vera_lambda_d): ParameterDict(  (default): Parameter containing: [torch.FloatTensor of size 512])\n",
       "                  )\n",
       "                  (k): Linear(\n",
       "                    in_features=1024, out_features=1024, bias=False\n",
       "                    (vera_dropout): ModuleDict(\n",
       "                      (default): Dropout(p=0.1, inplace=False)\n",
       "                    )\n",
       "                    (vera_lambda_b): ParameterDict(  (default): Parameter containing: [torch.FloatTensor of size 1024])\n",
       "                    (vera_lambda_d): ParameterDict(  (default): Parameter containing: [torch.FloatTensor of size 512])\n",
       "                  )\n",
       "                  (v): Linear(\n",
       "                    in_features=1024, out_features=1024, bias=False\n",
       "                    (vera_dropout): ModuleDict(\n",
       "                      (default): Dropout(p=0.1, inplace=False)\n",
       "                    )\n",
       "                    (vera_lambda_b): ParameterDict(  (default): Parameter containing: [torch.FloatTensor of size 1024])\n",
       "                    (vera_lambda_d): ParameterDict(  (default): Parameter containing: [torch.FloatTensor of size 512])\n",
       "                  )\n",
       "                  (o): Linear(in_features=1024, out_features=1024, bias=False)\n",
       "                  (relative_attention_bias): Embedding(32, 16)\n",
       "                )\n",
       "                (layer_norm): MT5LayerNorm()\n",
       "                (dropout): Dropout(p=0.1, inplace=False)\n",
       "              )\n",
       "              (1): MT5LayerFF(\n",
       "                (DenseReluDense): MT5DenseGatedActDense(\n",
       "                  (wi_0): Linear(in_features=1024, out_features=2816, bias=False)\n",
       "                  (wi_1): Linear(in_features=1024, out_features=2816, bias=False)\n",
       "                  (wo): Linear(in_features=2816, out_features=1024, bias=False)\n",
       "                  (dropout): Dropout(p=0.1, inplace=False)\n",
       "                  (act): NewGELUActivation()\n",
       "                )\n",
       "                (layer_norm): MT5LayerNorm()\n",
       "                (dropout): Dropout(p=0.1, inplace=False)\n",
       "              )\n",
       "            )\n",
       "          )\n",
       "          (1-23): 23 x MT5Block(\n",
       "            (layer): ModuleList(\n",
       "              (0): MT5LayerSelfAttention(\n",
       "                (SelfAttention): MT5Attention(\n",
       "                  (q): Linear(\n",
       "                    in_features=1024, out_features=1024, bias=False\n",
       "                    (vera_dropout): ModuleDict(\n",
       "                      (default): Dropout(p=0.1, inplace=False)\n",
       "                    )\n",
       "                    (vera_lambda_b): ParameterDict(  (default): Parameter containing: [torch.FloatTensor of size 1024])\n",
       "                    (vera_lambda_d): ParameterDict(  (default): Parameter containing: [torch.FloatTensor of size 512])\n",
       "                  )\n",
       "                  (k): Linear(\n",
       "                    in_features=1024, out_features=1024, bias=False\n",
       "                    (vera_dropout): ModuleDict(\n",
       "                      (default): Dropout(p=0.1, inplace=False)\n",
       "                    )\n",
       "                    (vera_lambda_b): ParameterDict(  (default): Parameter containing: [torch.FloatTensor of size 1024])\n",
       "                    (vera_lambda_d): ParameterDict(  (default): Parameter containing: [torch.FloatTensor of size 512])\n",
       "                  )\n",
       "                  (v): Linear(\n",
       "                    in_features=1024, out_features=1024, bias=False\n",
       "                    (vera_dropout): ModuleDict(\n",
       "                      (default): Dropout(p=0.1, inplace=False)\n",
       "                    )\n",
       "                    (vera_lambda_b): ParameterDict(  (default): Parameter containing: [torch.FloatTensor of size 1024])\n",
       "                    (vera_lambda_d): ParameterDict(  (default): Parameter containing: [torch.FloatTensor of size 512])\n",
       "                  )\n",
       "                  (o): Linear(in_features=1024, out_features=1024, bias=False)\n",
       "                )\n",
       "                (layer_norm): MT5LayerNorm()\n",
       "                (dropout): Dropout(p=0.1, inplace=False)\n",
       "              )\n",
       "              (1): MT5LayerFF(\n",
       "                (DenseReluDense): MT5DenseGatedActDense(\n",
       "                  (wi_0): Linear(in_features=1024, out_features=2816, bias=False)\n",
       "                  (wi_1): Linear(in_features=1024, out_features=2816, bias=False)\n",
       "                  (wo): Linear(in_features=2816, out_features=1024, bias=False)\n",
       "                  (dropout): Dropout(p=0.1, inplace=False)\n",
       "                  (act): NewGELUActivation()\n",
       "                )\n",
       "                (layer_norm): MT5LayerNorm()\n",
       "                (dropout): Dropout(p=0.1, inplace=False)\n",
       "              )\n",
       "            )\n",
       "          )\n",
       "        )\n",
       "        (final_layer_norm): MT5LayerNorm()\n",
       "        (dropout): Dropout(p=0.1, inplace=False)\n",
       "      )\n",
       "      (decoder): MT5Stack(\n",
       "        (embed_tokens): Embedding(250112, 1024)\n",
       "        (block): ModuleList(\n",
       "          (0): MT5Block(\n",
       "            (layer): ModuleList(\n",
       "              (0): MT5LayerSelfAttention(\n",
       "                (SelfAttention): MT5Attention(\n",
       "                  (q): Linear(\n",
       "                    in_features=1024, out_features=1024, bias=False\n",
       "                    (vera_dropout): ModuleDict(\n",
       "                      (default): Dropout(p=0.1, inplace=False)\n",
       "                    )\n",
       "                    (vera_lambda_b): ParameterDict(  (default): Parameter containing: [torch.FloatTensor of size 1024])\n",
       "                    (vera_lambda_d): ParameterDict(  (default): Parameter containing: [torch.FloatTensor of size 512])\n",
       "                  )\n",
       "                  (k): Linear(\n",
       "                    in_features=1024, out_features=1024, bias=False\n",
       "                    (vera_dropout): ModuleDict(\n",
       "                      (default): Dropout(p=0.1, inplace=False)\n",
       "                    )\n",
       "                    (vera_lambda_b): ParameterDict(  (default): Parameter containing: [torch.FloatTensor of size 1024])\n",
       "                    (vera_lambda_d): ParameterDict(  (default): Parameter containing: [torch.FloatTensor of size 512])\n",
       "                  )\n",
       "                  (v): Linear(\n",
       "                    in_features=1024, out_features=1024, bias=False\n",
       "                    (vera_dropout): ModuleDict(\n",
       "                      (default): Dropout(p=0.1, inplace=False)\n",
       "                    )\n",
       "                    (vera_lambda_b): ParameterDict(  (default): Parameter containing: [torch.FloatTensor of size 1024])\n",
       "                    (vera_lambda_d): ParameterDict(  (default): Parameter containing: [torch.FloatTensor of size 512])\n",
       "                  )\n",
       "                  (o): Linear(in_features=1024, out_features=1024, bias=False)\n",
       "                  (relative_attention_bias): Embedding(32, 16)\n",
       "                )\n",
       "                (layer_norm): MT5LayerNorm()\n",
       "                (dropout): Dropout(p=0.1, inplace=False)\n",
       "              )\n",
       "              (1): MT5LayerCrossAttention(\n",
       "                (EncDecAttention): MT5Attention(\n",
       "                  (q): Linear(\n",
       "                    in_features=1024, out_features=1024, bias=False\n",
       "                    (vera_dropout): ModuleDict(\n",
       "                      (default): Dropout(p=0.1, inplace=False)\n",
       "                    )\n",
       "                    (vera_lambda_b): ParameterDict(  (default): Parameter containing: [torch.FloatTensor of size 1024])\n",
       "                    (vera_lambda_d): ParameterDict(  (default): Parameter containing: [torch.FloatTensor of size 512])\n",
       "                  )\n",
       "                  (k): Linear(\n",
       "                    in_features=1024, out_features=1024, bias=False\n",
       "                    (vera_dropout): ModuleDict(\n",
       "                      (default): Dropout(p=0.1, inplace=False)\n",
       "                    )\n",
       "                    (vera_lambda_b): ParameterDict(  (default): Parameter containing: [torch.FloatTensor of size 1024])\n",
       "                    (vera_lambda_d): ParameterDict(  (default): Parameter containing: [torch.FloatTensor of size 512])\n",
       "                  )\n",
       "                  (v): Linear(\n",
       "                    in_features=1024, out_features=1024, bias=False\n",
       "                    (vera_dropout): ModuleDict(\n",
       "                      (default): Dropout(p=0.1, inplace=False)\n",
       "                    )\n",
       "                    (vera_lambda_b): ParameterDict(  (default): Parameter containing: [torch.FloatTensor of size 1024])\n",
       "                    (vera_lambda_d): ParameterDict(  (default): Parameter containing: [torch.FloatTensor of size 512])\n",
       "                  )\n",
       "                  (o): Linear(in_features=1024, out_features=1024, bias=False)\n",
       "                )\n",
       "                (layer_norm): MT5LayerNorm()\n",
       "                (dropout): Dropout(p=0.1, inplace=False)\n",
       "              )\n",
       "              (2): MT5LayerFF(\n",
       "                (DenseReluDense): MT5DenseGatedActDense(\n",
       "                  (wi_0): Linear(in_features=1024, out_features=2816, bias=False)\n",
       "                  (wi_1): Linear(in_features=1024, out_features=2816, bias=False)\n",
       "                  (wo): Linear(in_features=2816, out_features=1024, bias=False)\n",
       "                  (dropout): Dropout(p=0.1, inplace=False)\n",
       "                  (act): NewGELUActivation()\n",
       "                )\n",
       "                (layer_norm): MT5LayerNorm()\n",
       "                (dropout): Dropout(p=0.1, inplace=False)\n",
       "              )\n",
       "            )\n",
       "          )\n",
       "          (1-23): 23 x MT5Block(\n",
       "            (layer): ModuleList(\n",
       "              (0): MT5LayerSelfAttention(\n",
       "                (SelfAttention): MT5Attention(\n",
       "                  (q): Linear(\n",
       "                    in_features=1024, out_features=1024, bias=False\n",
       "                    (vera_dropout): ModuleDict(\n",
       "                      (default): Dropout(p=0.1, inplace=False)\n",
       "                    )\n",
       "                    (vera_lambda_b): ParameterDict(  (default): Parameter containing: [torch.FloatTensor of size 1024])\n",
       "                    (vera_lambda_d): ParameterDict(  (default): Parameter containing: [torch.FloatTensor of size 512])\n",
       "                  )\n",
       "                  (k): Linear(\n",
       "                    in_features=1024, out_features=1024, bias=False\n",
       "                    (vera_dropout): ModuleDict(\n",
       "                      (default): Dropout(p=0.1, inplace=False)\n",
       "                    )\n",
       "                    (vera_lambda_b): ParameterDict(  (default): Parameter containing: [torch.FloatTensor of size 1024])\n",
       "                    (vera_lambda_d): ParameterDict(  (default): Parameter containing: [torch.FloatTensor of size 512])\n",
       "                  )\n",
       "                  (v): Linear(\n",
       "                    in_features=1024, out_features=1024, bias=False\n",
       "                    (vera_dropout): ModuleDict(\n",
       "                      (default): Dropout(p=0.1, inplace=False)\n",
       "                    )\n",
       "                    (vera_lambda_b): ParameterDict(  (default): Parameter containing: [torch.FloatTensor of size 1024])\n",
       "                    (vera_lambda_d): ParameterDict(  (default): Parameter containing: [torch.FloatTensor of size 512])\n",
       "                  )\n",
       "                  (o): Linear(in_features=1024, out_features=1024, bias=False)\n",
       "                )\n",
       "                (layer_norm): MT5LayerNorm()\n",
       "                (dropout): Dropout(p=0.1, inplace=False)\n",
       "              )\n",
       "              (1): MT5LayerCrossAttention(\n",
       "                (EncDecAttention): MT5Attention(\n",
       "                  (q): Linear(\n",
       "                    in_features=1024, out_features=1024, bias=False\n",
       "                    (vera_dropout): ModuleDict(\n",
       "                      (default): Dropout(p=0.1, inplace=False)\n",
       "                    )\n",
       "                    (vera_lambda_b): ParameterDict(  (default): Parameter containing: [torch.FloatTensor of size 1024])\n",
       "                    (vera_lambda_d): ParameterDict(  (default): Parameter containing: [torch.FloatTensor of size 512])\n",
       "                  )\n",
       "                  (k): Linear(\n",
       "                    in_features=1024, out_features=1024, bias=False\n",
       "                    (vera_dropout): ModuleDict(\n",
       "                      (default): Dropout(p=0.1, inplace=False)\n",
       "                    )\n",
       "                    (vera_lambda_b): ParameterDict(  (default): Parameter containing: [torch.FloatTensor of size 1024])\n",
       "                    (vera_lambda_d): ParameterDict(  (default): Parameter containing: [torch.FloatTensor of size 512])\n",
       "                  )\n",
       "                  (v): Linear(\n",
       "                    in_features=1024, out_features=1024, bias=False\n",
       "                    (vera_dropout): ModuleDict(\n",
       "                      (default): Dropout(p=0.1, inplace=False)\n",
       "                    )\n",
       "                    (vera_lambda_b): ParameterDict(  (default): Parameter containing: [torch.FloatTensor of size 1024])\n",
       "                    (vera_lambda_d): ParameterDict(  (default): Parameter containing: [torch.FloatTensor of size 512])\n",
       "                  )\n",
       "                  (o): Linear(in_features=1024, out_features=1024, bias=False)\n",
       "                )\n",
       "                (layer_norm): MT5LayerNorm()\n",
       "                (dropout): Dropout(p=0.1, inplace=False)\n",
       "              )\n",
       "              (2): MT5LayerFF(\n",
       "                (DenseReluDense): MT5DenseGatedActDense(\n",
       "                  (wi_0): Linear(in_features=1024, out_features=2816, bias=False)\n",
       "                  (wi_1): Linear(in_features=1024, out_features=2816, bias=False)\n",
       "                  (wo): Linear(in_features=2816, out_features=1024, bias=False)\n",
       "                  (dropout): Dropout(p=0.1, inplace=False)\n",
       "                  (act): NewGELUActivation()\n",
       "                )\n",
       "                (layer_norm): MT5LayerNorm()\n",
       "                (dropout): Dropout(p=0.1, inplace=False)\n",
       "              )\n",
       "            )\n",
       "          )\n",
       "        )\n",
       "        (final_layer_norm): MT5LayerNorm()\n",
       "        (dropout): Dropout(p=0.1, inplace=False)\n",
       "      )\n",
       "      (lm_head): Linear(in_features=1024, out_features=250112, bias=False)\n",
       "    )\n",
       "  )\n",
       ")"
      ]
     },
     "execution_count": 2,
     "metadata": {},
     "output_type": "execute_result"
    }
   ],
   "source": [
    "# creating model\n",
    "peft_config = VeraConfig(task_type=TaskType.SEQ_2_SEQ_LM, inference_mode=False, r=512, vera_dropout=0.1, projection_prng_key=0xABC, d_initial=0.1, save_projection=True, target_modules=[\"q\", \"k\", \"v\"])\n",
    "\n",
    "model = AutoModelForSeq2SeqLM.from_pretrained(model_name_or_path)\n",
    "model = get_peft_model(model, peft_config)\n",
    "model.print_trainable_parameters()\n",
    "model"
   ]
  },
  {
   "cell_type": "code",
   "execution_count": 3,
   "id": "4ee2babf",
   "metadata": {},
   "outputs": [
    {
     "name": "stderr",
     "output_type": "stream",
     "text": [
      "Map: 100%|██████████| 2037/2037 [00:00<00:00, 89682.65 examples/s]\n",
      "Map: 100%|██████████| 227/227 [00:00<00:00, 57132.13 examples/s]\n"
     ]
    },
    {
     "data": {
      "text/plain": [
       "{'sentence': \"Finnish plumbing and heating systems supplier Uponor 's net sales in continuing business operations decreased to EUR 249.1 mn in July-September 2008 , compared to EUR 262.1 mn in the third quarter of 2007 .\",\n",
       " 'label': 0,\n",
       " 'text_label': 'negative'}"
      ]
     },
     "execution_count": 3,
     "metadata": {},
     "output_type": "execute_result"
    }
   ],
   "source": [
    "# loading dataset\n",
    "dataset = load_dataset(\"financial_phrasebank\", \"sentences_allagree\")\n",
    "dataset = dataset[\"train\"].train_test_split(test_size=0.1)\n",
    "dataset[\"validation\"] = dataset[\"test\"]\n",
    "del dataset[\"test\"]\n",
    "\n",
    "classes = dataset[\"train\"].features[\"label\"].names\n",
    "dataset = dataset.map(\n",
    "    lambda x: {\"text_label\": [classes[label] for label in x[\"label\"]]},\n",
    "    batched=True,\n",
    "    num_proc=1,\n",
    ")\n",
    "\n",
    "dataset[\"train\"][0]"
   ]
  },
  {
   "cell_type": "code",
   "execution_count": 4,
   "id": "adf9608c",
   "metadata": {},
   "outputs": [
    {
     "name": "stderr",
     "output_type": "stream",
     "text": [
      "Running tokenizer on dataset: 100%|██████████| 2037/2037 [00:00<00:00, 8314.44 examples/s]\n",
      "Running tokenizer on dataset: 100%|██████████| 227/227 [00:00<00:00, 7340.39 examples/s]\n"
     ]
    }
   ],
   "source": [
    "# data preprocessing\n",
    "tokenizer = AutoTokenizer.from_pretrained(model_name_or_path)\n",
    "\n",
    "\n",
    "def preprocess_function(examples):\n",
    "    inputs = examples[text_column]\n",
    "    targets = examples[label_column]\n",
    "    model_inputs = tokenizer(inputs, max_length=max_length, padding=\"max_length\", truncation=True, return_tensors=\"pt\")\n",
    "    labels = tokenizer(targets, max_length=3, padding=\"max_length\", truncation=True, return_tensors=\"pt\")\n",
    "    labels = labels[\"input_ids\"]\n",
    "    labels[labels == tokenizer.pad_token_id] = -100\n",
    "    model_inputs[\"labels\"] = labels\n",
    "    return model_inputs\n",
    "\n",
    "\n",
    "processed_datasets = dataset.map(\n",
    "    preprocess_function,\n",
    "    batched=True,\n",
    "    num_proc=1,\n",
    "    remove_columns=dataset[\"train\"].column_names,\n",
    "    load_from_cache_file=False,\n",
    "    desc=\"Running tokenizer on dataset\",\n",
    ")\n",
    "\n",
    "train_dataset = processed_datasets[\"train\"]\n",
    "eval_dataset = processed_datasets[\"validation\"]\n",
    "\n",
    "train_dataloader = DataLoader(\n",
    "    train_dataset, shuffle=True, collate_fn=default_data_collator, batch_size=batch_size, pin_memory=True\n",
    ")\n",
    "eval_dataloader = DataLoader(eval_dataset, collate_fn=default_data_collator, batch_size=batch_size, pin_memory=True)"
   ]
  },
  {
   "cell_type": "code",
   "execution_count": 5,
   "id": "f733a3c6",
   "metadata": {},
   "outputs": [],
   "source": [
    "# optimizer and lr scheduler\n",
    "optimizer = torch.optim.AdamW(\n",
    "    [\n",
    "        {\"params\": [p for n, p in model.named_parameters() if \"vera_lambda_\" in n], \"lr\": lr},\n",
    "    ]\n",
    ")\n",
    "lr_scheduler = get_linear_schedule_with_warmup(\n",
    "    optimizer=optimizer,\n",
    "    num_warmup_steps=0,\n",
    "    num_training_steps=(len(train_dataloader) * num_epochs),\n",
    ")"
   ]
  },
  {
   "cell_type": "code",
   "execution_count": 6,
   "id": "6b3a4090",
   "metadata": {},
   "outputs": [
    {
     "name": "stderr",
     "output_type": "stream",
     "text": [
      "100%|██████████| 255/255 [01:02<00:00,  4.08it/s]\n",
      "100%|██████████| 29/29 [00:03<00:00,  9.07it/s]\n"
     ]
    },
    {
     "name": "stdout",
     "output_type": "stream",
     "text": [
      "epoch=0: train_ppl=tensor(6.0480, device='cuda:0') train_epoch_loss=tensor(1.7997, device='cuda:0') eval_ppl=tensor(1.1687, device='cuda:0') eval_epoch_loss=tensor(0.1558, device='cuda:0')\n"
     ]
    },
    {
     "name": "stderr",
     "output_type": "stream",
     "text": [
      "100%|██████████| 255/255 [01:02<00:00,  4.10it/s]\n",
      "100%|██████████| 29/29 [00:02<00:00,  9.69it/s]\n"
     ]
    },
    {
     "name": "stdout",
     "output_type": "stream",
     "text": [
      "epoch=1: train_ppl=tensor(1.1920, device='cuda:0') train_epoch_loss=tensor(0.1756, device='cuda:0') eval_ppl=tensor(1.1102, device='cuda:0') eval_epoch_loss=tensor(0.1045, device='cuda:0')\n"
     ]
    },
    {
     "name": "stderr",
     "output_type": "stream",
     "text": [
      "100%|██████████| 255/255 [01:02<00:00,  4.06it/s]\n",
      "100%|██████████| 29/29 [00:03<00:00,  9.57it/s]\n"
     ]
    },
    {
     "name": "stdout",
     "output_type": "stream",
     "text": [
      "epoch=2: train_ppl=tensor(1.1507, device='cuda:0') train_epoch_loss=tensor(0.1404, device='cuda:0') eval_ppl=tensor(1.0972, device='cuda:0') eval_epoch_loss=tensor(0.0927, device='cuda:0')\n"
     ]
    },
    {
     "name": "stderr",
     "output_type": "stream",
     "text": [
      "100%|██████████| 255/255 [01:03<00:00,  4.02it/s]\n",
      "100%|██████████| 29/29 [00:03<00:00,  9.34it/s]\n"
     ]
    },
    {
     "name": "stdout",
     "output_type": "stream",
     "text": [
      "epoch=3: train_ppl=tensor(1.1262, device='cuda:0') train_epoch_loss=tensor(0.1188, device='cuda:0') eval_ppl=tensor(1.0863, device='cuda:0') eval_epoch_loss=tensor(0.0827, device='cuda:0')\n"
     ]
    },
    {
     "name": "stderr",
     "output_type": "stream",
     "text": [
      "100%|██████████| 255/255 [01:03<00:00,  4.02it/s]\n",
      "100%|██████████| 29/29 [00:02<00:00,  9.77it/s]"
     ]
    },
    {
     "name": "stdout",
     "output_type": "stream",
     "text": [
      "epoch=4: train_ppl=tensor(1.1281, device='cuda:0') train_epoch_loss=tensor(0.1205, device='cuda:0') eval_ppl=tensor(1.0824, device='cuda:0') eval_epoch_loss=tensor(0.0792, device='cuda:0')\n"
     ]
    },
    {
     "name": "stderr",
     "output_type": "stream",
     "text": [
      "\n"
     ]
    }
   ],
   "source": [
    "# training and evaluation\n",
    "model = model.to(device)\n",
    "\n",
    "for epoch in range(num_epochs):\n",
    "    model.train()\n",
    "    total_loss = 0\n",
    "    for step, batch in enumerate(tqdm(train_dataloader)):\n",
    "        batch = {k: v.to(device) for k, v in batch.items()}\n",
    "        outputs = model(**batch)\n",
    "        loss = outputs.loss\n",
    "        total_loss += loss.detach().float()\n",
    "        loss.backward()\n",
    "        optimizer.step()\n",
    "        lr_scheduler.step()\n",
    "        optimizer.zero_grad()\n",
    "\n",
    "    model.eval()\n",
    "    eval_loss = 0\n",
    "    eval_preds = []\n",
    "    for step, batch in enumerate(tqdm(eval_dataloader)):\n",
    "        batch = {k: v.to(device) for k, v in batch.items()}\n",
    "        with torch.no_grad():\n",
    "            outputs = model(**batch)\n",
    "        loss = outputs.loss\n",
    "        eval_loss += loss.detach().float()\n",
    "        eval_preds.extend(\n",
    "            tokenizer.batch_decode(torch.argmax(outputs.logits, -1).detach().cpu().numpy(), skip_special_tokens=True)\n",
    "        )\n",
    "\n",
    "    eval_epoch_loss = eval_loss / len(eval_dataloader)\n",
    "    eval_ppl = torch.exp(eval_epoch_loss)\n",
    "    train_epoch_loss = total_loss / len(train_dataloader)\n",
    "    train_ppl = torch.exp(train_epoch_loss)\n",
    "    print(f\"{epoch=}: {train_ppl=} {train_epoch_loss=} {eval_ppl=} {eval_epoch_loss=}\")"
   ]
  },
  {
   "cell_type": "code",
   "execution_count": 7,
   "id": "6cafa67b",
   "metadata": {},
   "outputs": [
    {
     "name": "stdout",
     "output_type": "stream",
     "text": [
      "accuracy=94.7136563876652 % on the evaluation dataset\n",
      "eval_preds[:10]=['neutral', 'neutral', 'negative', 'neutral', 'neutral', 'neutral', 'neutral', 'neutral', 'neutral', 'neutral']\n",
      "dataset['validation']['text_label'][:10]=['neutral', 'neutral', 'negative', 'neutral', 'neutral', 'neutral', 'neutral', 'neutral', 'neutral', 'neutral']\n"
     ]
    }
   ],
   "source": [
    "# print accuracy\n",
    "correct = 0\n",
    "total = 0\n",
    "for pred, true in zip(eval_preds, dataset[\"validation\"][\"text_label\"]):\n",
    "    if pred.strip() == true.strip():\n",
    "        correct += 1\n",
    "    total += 1\n",
    "accuracy = correct / total * 100\n",
    "print(f\"{accuracy=} % on the evaluation dataset\")\n",
    "print(f\"{eval_preds[:10]=}\")\n",
    "print(f\"{dataset['validation']['text_label'][:10]=}\")"
   ]
  },
  {
   "cell_type": "code",
   "execution_count": 8,
   "id": "a8de6005",
   "metadata": {},
   "outputs": [],
   "source": [
    "# saving model\n",
    "peft_model_id = f\"{model_name_or_path}_{peft_config.peft_type}_{peft_config.task_type}\"\n",
    "model.save_pretrained(peft_model_id)"
   ]
  },
  {
   "cell_type": "code",
   "execution_count": 9,
   "id": "bd20cd4c",
   "metadata": {},
   "outputs": [
    {
     "name": "stdout",
     "output_type": "stream",
     "text": [
      "5.5M\tbigscience/mt0-large_PeftType.VERA_TaskType.SEQ_2_SEQ_LM/adapter_model.bin\n"
     ]
    }
   ],
   "source": [
    "ckpt = f\"{peft_model_id}/adapter_model.bin\"\n",
    "!du -h $ckpt"
   ]
  },
  {
   "cell_type": "code",
   "execution_count": 10,
   "id": "76c2fc29",
   "metadata": {},
   "outputs": [],
   "source": [
    "from peft import PeftModel, PeftConfig\n",
    "\n",
    "peft_model_id = f\"{model_name_or_path}_{peft_config.peft_type}_{peft_config.task_type}\"\n",
    "\n",
    "config = PeftConfig.from_pretrained(peft_model_id)\n",
    "model = AutoModelForSeq2SeqLM.from_pretrained(config.base_model_name_or_path)\n",
    "model = PeftModel.from_pretrained(model, peft_model_id)"
   ]
  },
  {
   "cell_type": "code",
   "execution_count": 11,
   "id": "37d712ce",
   "metadata": {},
   "outputs": [
    {
     "name": "stdout",
     "output_type": "stream",
     "text": [
      "Finnish security and privacy software solutions developer Stonesoft Oyj said on January 7 , 2008 that the preliminary sales of its StoneGate products grew by 59 pct year-on-year to 3.6 mln euro ( $ 5.3 mln ) for the fourth quarter of 2007 .\n",
      "{'input_ids': tensor([[   515, 143136,  20317,    305,  44357,   6296,  23760,  78709,  19401,\n",
      "          20066,  20860,    385,   2426,    351,    259,   3829,    617,    259,\n",
      "            261,   1508,    533,    287,    259,  92096,    276,  17689,    304,\n",
      "           2476,  19401, 146643,  10371,   6998,    481,    455,   8266,  14442,\n",
      "            270,   3721,    264,    444,    264,  12388,    288,  56492,    259,\n",
      "          43022,   3789,    274,   1160,  72691,    259,  43022,    259,    271,\n",
      "            332,    287,   9171,    807,  43095,    304,   1848,    259,    260,\n",
      "              1]]), 'attention_mask': tensor([[1, 1, 1, 1, 1, 1, 1, 1, 1, 1, 1, 1, 1, 1, 1, 1, 1, 1, 1, 1, 1, 1, 1, 1,\n",
      "         1, 1, 1, 1, 1, 1, 1, 1, 1, 1, 1, 1, 1, 1, 1, 1, 1, 1, 1, 1, 1, 1, 1, 1,\n",
      "         1, 1, 1, 1, 1, 1, 1, 1, 1, 1, 1, 1, 1, 1, 1, 1]])}\n",
      "tensor([[    0, 18205,     1]])\n",
      "['positive']\n"
     ]
    }
   ],
   "source": [
    "model.eval()\n",
    "model._add_forward_hooks()\n",
    "i = 13\n",
    "inputs = tokenizer(dataset[\"validation\"][text_column][i], return_tensors=\"pt\")\n",
    "print(dataset[\"validation\"][text_column][i])\n",
    "print(inputs)\n",
    "\n",
    "with torch.no_grad():\n",
    "    outputs = model.generate(input_ids=inputs[\"input_ids\"], max_new_tokens=10)\n",
    "    print(outputs)\n",
    "    print(tokenizer.batch_decode(outputs.detach().cpu().numpy(), skip_special_tokens=True))"
   ]
  }
 ],
 "metadata": {
  "kernelspec": {
   "display_name": "Python 3 (ipykernel)",
   "language": "python",
   "name": "python3"
  },
  "language_info": {
   "codemirror_mode": {
    "name": "ipython",
    "version": 3
   },
   "file_extension": ".py",
   "mimetype": "text/x-python",
   "name": "python",
   "nbconvert_exporter": "python",
   "pygments_lexer": "ipython3",
   "version": "3.11.6"
  },
  "vscode": {
   "interpreter": {
    "hash": "aee8b7b246df8f9039afb4144a1f6fd8d2ca17a180786b69acc140d282b71a49"
   }
  }
 },
 "nbformat": 4,
 "nbformat_minor": 5
}
